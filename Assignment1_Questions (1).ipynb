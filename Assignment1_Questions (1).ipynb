{
 "cells": [
  {
   "cell_type": "markdown",
   "metadata": {},
   "source": [
    "# Learning Goals\n",
    "\n",
    "The goal of this assignment is to develop an understanding of how the brain performs computations at the neuronal level. To do so, you will develop several models of a spiking neuron. By the end of this assignment, you should a) be comfortable with developing models of spiking neurons at different levels of abstraction, from the biologically plausible H-H model to the phenomenological LIF model; b) understand how neurons use their firing rate to represent continuous-valued information; and c) understand the trade-offs involved in spike-based information representation. \n",
    "\n",
    "Let's first import all the libraries required for this assignment"
   ]
  },
  {
   "cell_type": "code",
   "execution_count": 148,
   "metadata": {},
   "outputs": [],
   "source": [
    "import math\n",
    "import numpy as np\n",
    "from scipy.integrate import odeint\n",
    "import matplotlib.pyplot as plt\n",
    "import torchvision\n",
    "import torchvision.datasets as datasets\n",
    "from torchvision import transforms"
   ]
  },
  {
   "cell_type": "markdown",
   "metadata": {},
   "source": [
    "# Question 1: The Hodgkin Huxley Neuron\n",
    "## 1a. \n",
    "We will start by implementing the different computational models of a spiking neuron, with the aim of understanding the differences between the different models. We will start with one of the earliest, yet one of the most biologically faithful models of a neuron - The Hodgkin-Huxley (HH) model. Below is the class definition of an HH neuron. Your first task is to fill the different components required to simulate an HH neuron. "
   ]
  },
  {
   "cell_type": "code",
   "execution_count": 251,
   "metadata": {},
   "outputs": [],
   "source": [
    "class HodgkinHuxley():\n",
    "    \"\"\"Implementation of Hodgkin Huxley Model\"\"\"\n",
    "    def __init__(self, C_m, g_Na, g_K, g_L, E_Na, E_K, E_L, T, dt):\n",
    "        \"\"\"\n",
    "        :param C_m: membrane capacitance in uF/cm^2\n",
    "        :param g_Na: Sodium conductance in mS/cm^2\n",
    "        :param g_K: Potassium conductance in ms/cm^2\n",
    "        :param g_L: Leak maximum conductance\n",
    "        :param E_Na: Sodium Nernst reversal potential in mV\n",
    "        :param E_K: Potassium Nernst reversal potential in mV\n",
    "        :param E_L: Leak Nernst reversal potential in mV\n",
    "        :param T: Simulation timesteps\n",
    "        :param dt: Integration time \n",
    "        \n",
    "        This function is complete. You do not need to do anything here.\n",
    "        \"\"\"\n",
    "        self.C_m = C_m \n",
    "        self.g_Na = g_Na \n",
    "        self.g_K = g_K\n",
    "        self.g_L = g_L\n",
    "        self.E_Na = E_Na\n",
    "        self.E_K = E_K\n",
    "        self.E_L = E_L\n",
    "        self.T = T\n",
    "        self.dt = dt\n",
    "        self.t = np.arange(0, self.T, self.dt) #time to integrate over\n",
    "    \n",
    "    def alpha_m(self, V):\n",
    "        \"\"\"\n",
    "        Channel gating kinetics\n",
    "        :param V: membrane voltage\n",
    "        :return: alpha_m\n",
    "        \n",
    "        Fill in the equation for alpha_m\n",
    "        \"\"\"\n",
    "        alpha_m = 0.1 * (V+40)/(1-np.exp(-(V+40)/10))\n",
    "        \n",
    "        return alpha_m\n",
    "    \n",
    "    def beta_m(self, V):\n",
    "        \"\"\"\n",
    "        Channel gating kinetics\n",
    "        :param V: membrane voltage\n",
    "        :return: beta_m\n",
    "        \n",
    "        Fill in the equation for beta_m\n",
    "        \"\"\"\n",
    "        beta_m = 4*np.exp(-(V+65)/18)\n",
    "        \n",
    "        return beta_m\n",
    "    \n",
    "    def alpha_h(self, V):\n",
    "        \"\"\"\n",
    "        Channel gating kinetics\n",
    "        :param V: membrane voltage\n",
    "        :return: alpha_h\n",
    "        \n",
    "        Fill in the equation for alpha_h\n",
    "        \"\"\"\n",
    "        alpha_h = 0.07*(np.exp(-(V+65)/20))\n",
    "        return alpha_h\n",
    "    \n",
    "    def beta_h(self, V):\n",
    "        \"\"\"\n",
    "        Channel gating kinetics\n",
    "        :param V: membrane voltage\n",
    "        :return: beta_h\n",
    "        \n",
    "        Fill in the equation for beta_h\n",
    "        \"\"\"\n",
    "        beta_h = 1/(1+np.exp(-(V+35)/10))\n",
    "        return beta_h\n",
    "    \n",
    "    def alpha_n(self, V):\n",
    "        \"\"\"\n",
    "        Channel gating kinetics\n",
    "        :param V: membrane voltage\n",
    "        :return: alpha_n\n",
    "        \n",
    "        Fill in the equation for alpha_n\n",
    "        \"\"\"\n",
    "        alpha_n = 0.01*(55+V)/(1-np.exp(-(V+55)/10))\n",
    "        return alpha_n\n",
    "    \n",
    "    def beta_n(self, V):\n",
    "        \"\"\"\n",
    "        Channel gating kinetics\n",
    "        :param V: membrane voltage\n",
    "        :return: beta_n\n",
    "        \n",
    "        Fill in the equation for beta_n\n",
    "        \"\"\"\n",
    "        beta_n = 0.125*np.exp(-(V+65)/80)\n",
    "        return beta_n\n",
    "    \n",
    "    def I_Na(self, V, m, h):\n",
    "        \"\"\"\n",
    "        Membrane Sodium current\n",
    "        :param V: membrane voltage\n",
    "        :param m: gating variable m\n",
    "        :param h: gating variable h\n",
    "        :return: sodium current I_Na\n",
    "        \n",
    "        Fill in the equation for I_Na\n",
    "        \"\"\"\n",
    "        I_Na = math.pow(m,3) * self.g_Na * h * (V - self.E_Na)\n",
    "        return I_Na \n",
    "    \n",
    "    def I_K(self, V, n):\n",
    "        \"\"\"\n",
    "        Membrane Potassium current\n",
    "        :param V: membrane voltage\n",
    "        :param h: gating variable h\n",
    "        :return: Potassium current I_K\n",
    "        \n",
    "        Fill in the equation for I_K\n",
    "        \"\"\"\n",
    "        \n",
    "        I_k = math.pow(n,4) * self.g_K * (V - self.E_K)\n",
    "        return I_k\n",
    "    \n",
    "    def I_L(self, V):\n",
    "        \"\"\"\n",
    "        Membrane Leak current\n",
    "        :param V: membrane voltage\n",
    "        :return: Leak current I_L\n",
    "        \n",
    "        Fill in the equation for I_L\n",
    "        \"\"\"\n",
    "        I_L = self.g_L *(V - self.E_L)\n",
    "        return I_L\n",
    "\n",
    "    def I_inj(self, t):\n",
    "        \"\"\"\n",
    "        External current\n",
    "        :param t: time\n",
    "        :return: step up to 10 uA/cm^2 at t>100\n",
    "                step down to 0 uA/cm^2 at t>200\n",
    "                step up to 35 uA/cm^2 at t>300\n",
    "                step down to 0 uA/cm^2 at t>400\n",
    "        \n",
    "        This function is complete. You do not need to do anything here.\n",
    "        \"\"\"\n",
    "        return 10*(t>100) - 10*(t>200) + 35*(t>300) - 35*(t>400)\n",
    "    \n",
    "    @staticmethod\n",
    "    def computeDerivatives(X, t, self):\n",
    "        \"\"\"\n",
    "        Function to integrate membrane potential and activation variables\n",
    "        :param X: array containing the integration variables: V, m, h, n\n",
    "        :param t: time\n",
    "        :return dVdt: increment in membrane voltage\n",
    "                dmdt: increment in m\n",
    "                dhdt: increment in h\n",
    "                dndt: increment in n\n",
    "        \n",
    "        Fill in the update equations for dVdt, dmdt, dhdt, dndt\n",
    "        \"\"\"\n",
    "        V, m, h, n = X #unwrap X into the membrane potential and activation variables\n",
    "        dVdt =  (1/self.C_m) * (self.I_inj(t) - (self.I_Na(V,m,h) + self.I_K(V,n) + self.I_L(V)))#compute increment in membrane voltage\n",
    "        dmdt =  self.alpha_m(V)*(1-m)-self.beta_m(V)*m #compute increment in m\n",
    "        dhdt =  self.alpha_h(V)*(1-h)-self.beta_h(V)*h #compute increment in h\n",
    "        dndt =  self.alpha_n(V)*(1-n)-self.beta_n(V)*n#compute increment in n\n",
    "        return dVdt, dmdt, dhdt, dndt\n",
    "    \n",
    "    def run(self):\n",
    "        \"\"\"\n",
    "        Main function to simulate HH neuron and plot voltage and current against time. This part is complete. DO NOT change this code. You do not need to fill anything here. \n",
    "        \"\"\"\n",
    "        X = odeint(self.computeDerivatives, [-65, 0.05, 0.6, 0.32], self.t, args=(self,))\n",
    "        V, m, n, h = X[:, 0], X[:, 1], X[:, 2], X[:, 3]\n",
    "        plt.figure()\n",
    "        plt.subplot(2,1,1)\n",
    "        plt.title('Hodgkin-Huxley Neuron')\n",
    "        plt.plot(self.t, V, 'k')\n",
    "        plt.ylabel('V')\n",
    "        \n",
    "        plt.figure()\n",
    "        plt.subplot(2,1,2)\n",
    "        i_inj = [self.I_inj(t) for t in self.t]\n",
    "        plt.plot(self.t, i_inj, 'k')\n",
    "        plt.xlabel('t')\n",
    "        plt.ylabel('$I_{inj}$ ($\\\\mu{A}/cm^2$)')\n",
    "        plt.ylim(-1, 40)\n",
    "        \n",
    "        plt.show()"
   ]
  },
  {
   "cell_type": "markdown",
   "metadata": {},
   "source": [
    "## 1b. \n",
    "Initialize an HH neuron using a proper set of parameters; then run the simulation. You should be able to get a plot depicting how the Voltage and Current of the neuron change with time. "
   ]
  },
  {
   "cell_type": "code",
   "execution_count": 252,
   "metadata": {},
   "outputs": [
    {
     "data": {
      "image/png": "[encoded data removed]",
      "text/plain": [
       "<Figure size 432x288 with 1 Axes>"
      ]
     },
     "metadata": {
      "needs_background": "light"
     },
     "output_type": "display_data"
    },
    {
     "data": {
      "image/png": "[encoded data removed]",
      "text/plain": [
       "<Figure size 432x288 with 1 Axes>"
      ]
     },
     "metadata": {
      "needs_background": "light"
     },
     "output_type": "display_data"
    }
   ],
   "source": [
    "#1. Initialize an hh neuron using the class definition above\n",
    "# hh = HodgkinHuxley(1.0, 120.0, 36.0, 0.3, 115, -12.0, 10.6, 450.0, 0.01)\n",
    "hh = HodgkinHuxley(1.0, 100.0, 36.0, 0.3, 50, -77.0, -54.387, 450.0, 0.01)\n",
    "hh.run()\n",
    "#2. Run the hh neuron simulation"
   ]
  },
  {
   "cell_type": "markdown",
   "metadata": {},
   "source": [
    "## 1c. \n",
    "The beauty of a neurophysiologically accurate model of a neuron is that it allows the simulation of several phenomena that can take place in the brain. Assume that you administer a drug named Tetrodotoxin (TTX), which is a potent neurotoxin that inhibits the voltage-gated sodium channels, and therefore decreases the sodium current. Simulate the effects that administering TTX would have on the neural firing.  Do the same for another drug, pronase,\n",
    "which eliminates sodium inactivation. "
   ]
  },
  {
   "cell_type": "code",
   "execution_count": 253,
   "metadata": {},
   "outputs": [
    {
     "data": {
      "image/png": "[encoded data removed]",
      "text/plain": [
       "<Figure size 432x288 with 1 Axes>"
      ]
     },
     "metadata": {
      "needs_background": "light"
     },
     "output_type": "display_data"
    },
    {
     "data": {
      "image/png": "[encoded data removed]",
      "text/plain": [
       "<Figure size 432x288 with 1 Axes>"
      ]
     },
     "metadata": {
      "needs_background": "light"
     },
     "output_type": "display_data"
    },
    {
     "data": {
      "image/png": "[encoded data removed]",
      "text/plain": [
       "<Figure size 432x288 with 1 Axes>"
      ]
     },
     "metadata": {
      "needs_background": "light"
     },
     "output_type": "display_data"
    },
    {
     "data": {
      "image/png": "[encoded data removed]",
      "text/plain": [
       "<Figure size 432x288 with 1 Axes>"
      ]
     },
     "metadata": {
      "needs_background": "light"
     },
     "output_type": "display_data"
    }
   ],
   "source": [
    "#1. Initialize an hh neuron to simulate TTX\n",
    "\n",
    "#2. Run the hh neuron simulation\n",
    "hh = HodgkinHuxley(1.0, 100, 36, 0.3, 0, -77, -53.22, 450, 0.01)\n",
    "hh.run()\n",
    "\n",
    "#3. Initialize an hh neuron to simulate pronase\n",
    "\n",
    "#4. Run the hh neuron simulation\n",
    "hh = HodgkinHuxley(1.0, 0, 36, 0.3, 50, -77, -53.22, 450, 0.01)\n",
    "hh.run()"
   ]
  },
  {
   "cell_type": "markdown",
   "metadata": {},
   "source": [
    "# Question 2: The Izhikevich Neuron\n",
    "\n",
    "## 2a.\n",
    "We will now implement an Izhikevich (Izhi) neuron model. Below is the class definition of an Izhi neuron. Like before, your task is to fill in the different components required to simulate an Izhi neuron. You should notice one key difference in the implementation: While our HH implementation relied on the odeint libary from scipy for integration, here we will use 'Euler's method' to integrate. The Euler's method is very intuitive, simple, and can be easily implemented. For your reference, the dynamics of an Izhi neuron are described in equations 1, 2, 3 in the paper: https://www.izhikevich.org/publications/spikes.pdf"
   ]
  },
  {
   "cell_type": "code",
   "execution_count": 254,
   "metadata": {},
   "outputs": [],
   "source": [
    "class Izhi():\n",
    "    \"\"\"Implementation of the Izhikevich neuron Model\"\"\"\n",
    "    def __init__(self, a, b, c, d, Vth, T, dt):\n",
    "        \"\"\"\n",
    "        :param a, b, c, d: Izhi neuron parameters\n",
    "        :param Vth: Voltage threshold for spiking\n",
    "        :param T: Simulation timesteps\n",
    "        :param dt: Integration time \n",
    "        \n",
    "        This function is complete. You do not need to do anything here.\n",
    "        \"\"\"\n",
    "        self.a = a\n",
    "        self.b = b\n",
    "        self.c = c\n",
    "        self.d = d\n",
    "        self.Vth = Vth\n",
    "        self.u = self.b * self.c #initialize u\n",
    "        self.T = T\n",
    "        self.dt = dt\n",
    "        self.t = np.arange(0, self.T, self.dt)\n",
    "        self.I = 10 #Input stimulus current\n",
    "        \n",
    "    def run(self):\n",
    "        \"\"\"\n",
    "        Main function to simulate Izhi neuron and plot voltage and current against time. Fill in the update equations for du, dv, v[t] and u[t] and resetting on spiking.\n",
    "        \"\"\"\n",
    "        V = np.zeros(len(self.t)) #Initialize a numpy array containing the membrane voltages for all the timesteps\n",
    "        V[0] = self.c #Initial membrane voltage is the rest potential, defined by the parameter 'c'\n",
    "        u = np.zeros(len(self.t)) #Initialize a numpy array containing u for all the timesteps\n",
    "        u[0] = self.u #Initial u\n",
    "        \n",
    "        for t in range(1, len(self.t)): #the time loop for performing euler's integration\n",
    "            dv = (0.04 * V[t-1] + 5) * V[t-1] + 140 - u[t-1] #compute increment in voltage\n",
    "            du =   self.a * (self.b * V[t-1] - u[t-1]) #compute increment in u\n",
    "            V[t] =  V[t-1] + (dv + self.I) * self.dt #update the voltage\n",
    "            u[t] =  u[t-1] + self.dt * du #update u\n",
    "            \n",
    "            #condition for when membrane potential is greater than the threshold\n",
    "            if V[t] >= self.Vth:\n",
    "                V[t] =  self.c #reset v\n",
    "                u[t] =  u[t-1] + self.d  #reset u\n",
    "                \n",
    "        #plotting\n",
    "        \"\"\"This function is complete. You do not need to do anything here\"\"\"\n",
    "        plt.figure()\n",
    "        plt.subplot(2,1,1)\n",
    "        plt.title('Izhi Neuron')\n",
    "        plt.plot(self.t, V, 'k')\n",
    "        plt.ylabel('V')\n",
    "        \n",
    "        plt.figure()\n",
    "        plt.subplot(2,1,2)\n",
    "        i_inj = [self.I for t in self.t]\n",
    "        plt.plot(self.t, i_inj, 'k')\n",
    "        plt.xlabel('t')\n",
    "        plt.ylabel('$I_{inj}$ ($\\\\mu{A}/cm^2$)')\n",
    "        \n",
    "        plt.show()"
   ]
  },
  {
   "cell_type": "markdown",
   "metadata": {},
   "source": [
    "## 2b. \n",
    "Initialize an Izhi neuron with the correct parameters and run the simulation. You should again be able to get a plot depicting how the Voltage and Current of the neuron change with time. "
   ]
  },
  {
   "cell_type": "code",
   "execution_count": 255,
   "metadata": {},
   "outputs": [
    {
     "data": {
      "image/png": "[encoded data removed]",
      "text/plain": [
       "<Figure size 432x288 with 1 Axes>"
      ]
     },
     "metadata": {
      "needs_background": "light"
     },
     "output_type": "display_data"
    },
    {
     "data": {
      "image/png": "[encoded data removed]",
      "text/plain": [
       "<Figure size 432x288 with 1 Axes>"
      ]
     },
     "metadata": {
      "needs_background": "light"
     },
     "output_type": "display_data"
    }
   ],
   "source": [
    "#1. Initialize an izhikevich neuron with the appropriate parameters\n",
    "Iz = Izhi(0.02, 0.2, -65, 8, 65, 1000, 0.5)\n",
    "#2. Run the simulation and obtain the results\n",
    "Iz.run()\n"
   ]
  },
  {
   "cell_type": "markdown",
   "metadata": {},
   "source": [
    "## 2c.\n",
    "Change the parameters of the Izhi neuron in the code to replicate two different patterns identified in neurons, e.g., bursting and adaptation. You can find the parameters for several different Izhi models here: https://www.izhikevich.org/publications/spikes.pdf"
   ]
  },
  {
   "cell_type": "code",
   "execution_count": 7,
   "metadata": {},
   "outputs": [
    {
     "data": {
      "image/png": "[encoded data removed]",
      "text/plain": [
       "<Figure size 432x288 with 1 Axes>"
      ]
     },
     "metadata": {
      "needs_background": "light"
     },
     "output_type": "display_data"
    },
    {
     "data": {
      "image/png": "[encoded data removed]",
      "text/plain": [
       "<Figure size 432x288 with 1 Axes>"
      ]
     },
     "metadata": {
      "needs_background": "light"
     },
     "output_type": "display_data"
    },
    {
     "data": {
      "image/png": "[encoded data removed]",
      "text/plain": [
       "<Figure size 432x288 with 1 Axes>"
      ]
     },
     "metadata": {
      "needs_background": "light"
     },
     "output_type": "display_data"
    },
    {
     "data": {
      "image/png": "[encoded data removed]",
      "text/plain": [
       "<Figure size 432x288 with 1 Axes>"
      ]
     },
     "metadata": {
      "needs_background": "light"
     },
     "output_type": "display_data"
    }
   ],
   "source": [
    "#Write your implementation of the bursting and chattering neuron here\n",
    "\n",
    "#1. Initialize an izhikevich neuron with the appropriate parameters\n",
    "\n",
    "#2. Run the simulation and obtain the results\n",
    "Iz = Izhi(0.02, 0.2, -55, 4, 65, 1000, 0.5)\n",
    "Iz.run()\n",
    "\n",
    "Iz = Izhi(0.02, 0.2, -50, 2, 65, 1000, 0.5)\n",
    "Iz.run()\n"
   ]
  },
  {
   "cell_type": "markdown",
   "metadata": {},
   "source": [
    "# Question 3: The LIF Neuron\n",
    "\n",
    "## 3a. \n",
    "In this question, you will implement the almighty leaky integrate and fire neuron (LIF). The LIF neuron is the most widely-used model of a neuron in the SNN literature and you will be using it a lot for your course assignments and for your project. Below is the class definition of an LIF neuron. Just like the Izhi neuron, we will use Euler's method to perform integration. There is one key difference however: For HH and Izhi implementations, the neuron was taking current as the input. In our LIF implementation, the neuron takes spike-trains as inputs and produces spike-trains as output, similarly to how a real neuron works. \n",
    "\n",
    "As a hint, we provide here a discrete-time version of an LIF neuron:\n",
    "\n",
    "* First, integrate the input spikes into current with some decay factor\n",
    "\n",
    "$$C[t] = C[t-1] * current\\_decay + input\\_spike[t]$$\n",
    "\n",
    "* Then, integrate the current  into voltage with some decay factor\n",
    "\n",
    "$$V[t] = V[t-1] * voltage\\_decay + C[t]$$\n",
    "\n",
    "* Lastly produce a spike if the voltage exceeds the threshold, and reset voltage\n",
    "\n",
    "$$if V[t] >= Vth  \\\\ output\\_spike[t] = 1 \\ and \\ V[t] = Rest\\_Potential $$"
   ]
  },
  {
   "cell_type": "code",
   "execution_count": 256,
   "metadata": {},
   "outputs": [],
   "source": [
    "class LIF():\n",
    "    \"\"\"Implementation of Leaky integrate and fire neuron Model\"\"\"\n",
    "    def __init__(self, dc, dv, Vth, Vr):\n",
    "        \"\"\"\n",
    "        :param dc: Decay factor for current\n",
    "        :param dv: Decay factor for voltage\n",
    "        :param Vth: Voltage Threshold\n",
    "        :param Vr: Rest potential \n",
    "        \n",
    "        This function is complete. You do not need to do anything here\n",
    "        \"\"\"\n",
    "        self.dc = dc\n",
    "        self.dv = dv\n",
    "        self.Vth = Vth\n",
    "        self.Vr = Vr\n",
    "    \n",
    "    def run(self, in_spikes):\n",
    "        \"\"\"\n",
    "        Main function to simulate LIF neuron\n",
    "        :param in_spikes: Input spike train\n",
    "        :return out_spikes: output spike train\n",
    "        \n",
    "        Fill in the parts for updating Cm, Vm, and the condition for spiking and resetting\n",
    "        \"\"\"\n",
    "        Vm, Cm, out_spikes = [np.zeros(len(in_spikes)) for l in range(3)] #initialize the state variables\n",
    "        for t in range(1, len(in_spikes)): #Time loop to perform Euler's Integration\n",
    "            Cm[t] =  Cm[t-1]*self.dc+in_spikes[t]#Integrate input spikes into current\n",
    "            Vm[t] =  Vm[t-1]*self.dv+Cm[t]#Integrate current into voltage\n",
    "            \n",
    "            #condition for when membrane potential is greater than the threshold\n",
    "            if Vm[t]>=self.Vth:\n",
    "                out_spikes[t]=1\n",
    "                Vm[t]=self.Vr\n",
    "        \n",
    "        return out_spikes"
   ]
  },
  {
   "cell_type": "markdown",
   "metadata": {},
   "source": [
    "## 3b. \n",
    "Based on the class definition above, create an LIF neuron with the following parameters: dc = 0.5, dv = 0.5, Vth = 0.50, Vr = 0. \n",
    "Then apply to the neuron a random spike train for 15 timesteps. You might find the following numpy package useful to generate the input spike train:\n",
    "https://numpy.org/doc/stable/reference/random/generated/numpy.random.choice.html\n",
    "\n",
    "Simulate the neuron and print input and output spikes. "
   ]
  },
  {
   "cell_type": "code",
   "execution_count": 257,
   "metadata": {},
   "outputs": [
    {
     "name": "stdout",
     "output_type": "stream",
     "text": [
      "[1 1 1 0 0 1 0 0 1 1 0 1 1 0 1]\n",
      "[0. 1. 1. 1. 0. 1. 1. 0. 1. 1. 1. 1. 1. 1. 1.]\n"
     ]
    }
   ],
   "source": [
    "#1. Create an LIF neuron with the required parameters using the class definition above\n",
    "lx = LIF(0.5,0.5,0.50,0)\n",
    "\n",
    "#2. Generate a random input spike train of 15 timesteps using the numpy random choice library function\n",
    "inp_spike= np.random.choice([0,1],15)\n",
    "#3. Print the input spikes\n",
    "print(inp_spike)\n",
    "#4. Stimulate the LIF neuron with input spikes and return the output spikes\n",
    "output_spikes = lx.run(inp_spike)\n",
    "print(output_spikes)\n",
    "#5. Print the output spikes"
   ]
  },
  {
   "cell_type": "markdown",
   "metadata": {},
   "source": [
    "# Question 4: Biology vs. Efficiency\n",
    "Now that you have simulated spiking neuron models at different levels of abstraction, we will learn how to differentiate between the three neuron models that we have developed, based on the following criteria:\n",
    "* Biological realism\n",
    "* Computational Efficiency\n",
    "\n",
    "Can you describe for what tasks might you need an HH model? For what tasks would an LIF neuron be a better alternative?\n",
    "*Hint*: Why one should use a neuron model that replicates several of the neuron's mechanisms vs. using a model that emulates the neuron as a spike-in-spike-out black box. "
   ]
  },
  {
   "cell_type": "markdown",
   "metadata": {},
   "source": [
    "## Answer 4:\n",
    "HH model contains 7 equations with 26 parameters in all, most of the parameters define the kinetic properties of the voltage-gated sodium and potassium conductances. From this itself, we can note that Hodgkin Huxley is a purely electrical model. It makes no reference to biochemistry, changes to cytoplasmic ionic concentrations, or other intracellular processes. In HH model, the Na current corresponds to something that can be physically measured, but the Na gating variable (m) has no biophysical counterpart in the actual protein. HH model has high empirical content. Empirical content only refers to the logical structure of the models, that is, the kind of predictions they can make, but it does not address the question of whether these predictions are accurate or not. HH model neurons are very accurate  but we can only simulate a handful of these neurons since it’s so computationally expensive.\n",
    "\n",
    "Unlike the Hodgkin-Huxley model, the Izhikevich model does not account for the biophysics of neurons. It uses mathematical equations to compute a wide range of spiking patterns for cortical neurons. The output is incredibly realistic and biologically plausible. This model is also computationally feasible.\n",
    "\n",
    "Leaky integrate-and-fire model does not perform well at predicting the spike times of a real neuron;  However, if adaptation (and refractoriness) is added to the neuron model, the prediction works well. So it is computationally efficient but not biologically realistic.\n"
   ]
  },
  {
   "cell_type": "markdown",
   "metadata": {},
   "source": [
    "# Question 5: Tuning Membrane Properties of the LIF neuron\n",
    "## 5a.\n",
    "In this question, you will understand how to tune the membrane properties of an LIF neuron. First, generate 20 inputs in the form of random spike trains of length 50, i.e. 50 timesteps. The inputs will have different levels of probabilities for spike generation, that ranges between 0.1 and 1.0 with step size of 0.05. In other words, you will create 20 spike trains with the first spike train having the probability of 0.1 to generate spikes at any timestep, the second spike train will have the spike generation probability of 0.15, and so on. \n",
    "\n",
    "Simulate an LIF neuron with the parameters defined in Question 3b. You will now drive the neuron model with the 20 randomly generated input spike trains that you have created, and compute the output spike train. \n",
    "At the same time, compute the input firing rate and output firing rate for each simulation. Firing rate is defined as the mean of the spike train, i.e. total number of spikes/timesteps"
   ]
  },
  {
   "cell_type": "code",
   "execution_count": 259,
   "metadata": {},
   "outputs": [
    {
     "data": {
      "image/png": "[encoded data removed]",
      "text/plain": [
       "<Figure size 432x288 with 1 Axes>"
      ]
     },
     "metadata": {
      "needs_background": "light"
     },
     "output_type": "display_data"
    },
    {
     "data": {
      "image/png": "[encoded data removed]",
      "text/plain": [
       "<Figure size 432x288 with 1 Axes>"
      ]
     },
     "metadata": {
      "needs_background": "light"
     },
     "output_type": "display_data"
    }
   ],
   "source": [
    "def lif_behavior(lif):\n",
    "    \"\"\"Function to understand the behavior of LIF neuron for different densities of spike inputs\n",
    "    :param lif: An instance of the LIF neuron\n",
    "    \"\"\"\n",
    "    #1. Create lists to store the input and output firing rates\n",
    "    in_fr = [] #input firing rate\n",
    "    out_fr = [] #output firing rate\n",
    "    \n",
    "    #2. Create a list of probabilities: from 0.1 to 1.0 with step size of 0.05. You might find the numpy arange function helpful here.\n",
    "    probabilities = np.round(np.arange(0.1,1.05,0.05),2)\n",
    "    \n",
    "    #3. Loop through the range of probabilities\n",
    "    for p in probabilities:\n",
    "        in_spikes = np.random.choice([0,1],p=[1-p,p],size=50) #sample input spikes using np.random.choice function\n",
    "        \n",
    "        #compute input firing rate and append to the in_fr list\n",
    "        total_in_spikes = sum(in_spikes)\n",
    "        \n",
    "        in_fr.append(total_in_spikes/50)\n",
    "        \n",
    "        #obtain output spikes by applying the input to the LIF neuron\n",
    "        output_spikes = lx.run(in_spikes)\n",
    "        \n",
    "        #compute output firing rate and append to the out_fr list\n",
    "        total_output_spikes = sum(output_spikes)\n",
    "                                 \n",
    "        out_fr.append(total_output_spikes/50)\n",
    "\n",
    "    #Plot the input and output firing rates. Nothing to do here. This part is complete\n",
    "    plt.figure()\n",
    "    plt.subplot(2,1,1)\n",
    "    plt.title('output firing rate')\n",
    "    plt.plot(out_fr, 'k')\n",
    "    plt.ylabel('Out F.R.')\n",
    "    plt.ylim([0,1])\n",
    "\n",
    "    plt.figure()\n",
    "    plt.subplot(2,1,2)\n",
    "    plt.plot(in_fr, 'k')\n",
    "    plt.ylabel('In F.R.')\n",
    "    plt.ylim([0,1])\n",
    "    plt.show()\n",
    "\n",
    "#Run the lif behavior function for the LIF neuron that we created previously\n",
    "lif = LIF(0.5,0.5,0.5,0)\n",
    "lif_behavior(lif)"
   ]
  },
  {
   "cell_type": "markdown",
   "metadata": {},
   "source": [
    "## 5b. \n",
    "Describe how soon does the output firing rate start to saturate? Can you describe why this could be problematic? *Hint: Think from the point of view of distinguishing between two different inputs based on firing activity*"
   ]
  },
  {
   "cell_type": "markdown",
   "metadata": {},
   "source": [
    "## Answer 5b.\n",
    "The output firing rate starts to saturate at a range of 12-15 itself, this is mainly because of the current decay being higher causing the saturation to arrive way earlier.\n",
    "If we had to distinguish two different input spikes on the basis of firing rate, it could be done on the basis of reducing the current decay."
   ]
  },
  {
   "cell_type": "markdown",
   "metadata": {},
   "source": [
    "## 5c. \n",
    "Change the membrane properties of the LIF neuron to resolve the issue of saturation. In other words, experiment on setting different parameter values that do not allow the output firing rate to saturate so early. *Hint: You may want to start by changing one variable at a time, and see its effect. Try to move it slightly, or abruptly, up or down. Then move to the next parameter, until you see what is its effect on the neuron's output.* "
   ]
  },
  {
   "cell_type": "code",
   "execution_count": 245,
   "metadata": {},
   "outputs": [
    {
     "data": {
      "image/png": "[encoded data removed]",
      "text/plain": [
       "<Figure size 432x288 with 1 Axes>"
      ]
     },
     "metadata": {
      "needs_background": "light"
     },
     "output_type": "display_data"
    },
    {
     "data": {
      "image/png": "[encoded data removed]",
      "text/plain": [
       "<Figure size 432x288 with 1 Axes>"
      ]
     },
     "metadata": {
      "needs_background": "light"
     },
     "output_type": "display_data"
    }
   ],
   "source": [
    "#1. Create an LIF neuron with appropriately tuned membrane properties\n",
    "\n",
    "#2. Call the lif behavior function on the tuned lif neuron\n",
    "lif = LIF(0.2,0.5,0.5,0)\n",
    "lif_behavior(lif)"
   ]
  },
  {
   "cell_type": "markdown",
   "metadata": {},
   "source": [
    "## 5d.\n",
    "Based on the above results, can you describe how changing the H-H parameters changes the voltage threshold of a spiking neuron as a function of the input spikes?"
   ]
  },
  {
   "cell_type": "markdown",
   "metadata": {},
   "source": [
    "## Answer 5d.\n",
    "On the basis of changing the current decay, we can observe that the saturation doesn't arrive early. This causes lesser affect on the voltage threshold of a spiking neuron."
   ]
  },
  {
   "cell_type": "markdown",
   "metadata": {},
   "source": [
    "# Question 6: Encoding continuous inputs into spikes\n",
    "## 6a.\n",
    "Now we will understand how we can represent continuous-valued inputs as spikes so that drive our spiking neuron. Describe two prominent ways to encode a continuous-valued input into the spiking activity of a neuron. "
   ]
  },
  {
   "cell_type": "markdown",
   "metadata": {},
   "source": [
    "## Answer 6a.\n",
    "Two prominent ways to represent continuous valued inputs as spikes is via Rate coding and Temporal coding.\n",
    "Rate coding is used to compare differences in spiking from different stimuli. It is measuring the number of spikes that occur during a set period of time. It deals with the neuron fires spikes with a rate that is monotonically related to the intensity of that feature. This model works well with changes that vary slowly in time, because the noisiness of the spikes requires integration over some time window.\n",
    "On the other hand Temporal code refers to information about the action contained in the relative timing of the spike. There are multiple types of temporal coding available for different interpretations of relative timing.\n"
   ]
  },
  {
   "cell_type": "markdown",
   "metadata": {},
   "source": [
    "## 6b. \n",
    "So far we have learned how we can stimulate a spiking neuron using spike inputs. In this exercise, you will learn how to encode real-world data into spikes that can then be fed as inputs to the spiking neuron. We will take a digit from the popular MNIST dataset as an example. First let's see what a sample digit from the MNIST image looks like. For this, we need to create a loader for the MNIST dataset using a Pytorch function called datasets.MNIST. You do not need to know what a loader is for now. Just understand the two important arguments of the function: The first argument is the directory where the MNIST dataset will be downloaded. The third argument is the set download option. This should be true for the first time when you run this cell to allow you to download the MNIST data into your directory. You can set it to false if the MNIST data has already been downloaded. "
   ]
  },
  {
   "cell_type": "code",
   "execution_count": 8,
   "metadata": {},
   "outputs": [
    {
     "data": {
      "text/plain": [
       "<matplotlib.image.AxesImage at 0x7fbc51418ba8>"
      ]
     },
     "execution_count": 8,
     "metadata": {},
     "output_type": "execute_result"
    },
    {
     "data": {
      "image/png": "[encoded data removed]",
      "text/plain": [
       "<Figure size 432x288 with 1 Axes>"
      ]
     },
     "metadata": {
      "needs_background": "light"
     },
     "output_type": "display_data"
    }
   ],
   "source": [
    "#Create a loader\n",
    "mnist = datasets.MNIST(root='../data', train=False, download=False, transform=transforms.ToTensor())\n",
    "#You can access any sample digit from the MNIST dataset using simple indexing mnist[idx]. This returns the digit and the label. We are only interested in the digit. \n",
    "x, _ = mnist[5]\n",
    "#Convert to numpy\n",
    "x = x.numpy()[0]\n",
    "#Visualize\n",
    "plt.imshow(x)"
   ]
  },
  {
   "cell_type": "markdown",
   "metadata": {},
   "source": [
    "Let's now encode the image in the form of spikes using rate-encoding. Suppose that each pixel in the image needs to be encoded in a spike train of length 2. The steps to encode are outlined below:\n",
    "* For each pixel in the image, sample a random number.\n",
    "* If the pixel intensity is greater than the generated random number, output a spike. \n",
    "* Repeat for as many timesteps as you need to encode the image for. \n",
    "* Repeat for all pixels"
   ]
  },
  {
   "cell_type": "code",
   "execution_count": 206,
   "metadata": {},
   "outputs": [
    {
     "data": {
      "text/plain": [
       "(28, 28, 10)"
      ]
     },
     "execution_count": 206,
     "metadata": {},
     "output_type": "execute_result"
    }
   ],
   "source": [
    "#1. Use the numpy.random.rand function to encode the MNIST image into spikes\n",
    "\n",
    "r = np.random.rand(28,28,10)\n",
    "output = np.zeros((28,28,10))\n",
    "            \n",
    "for i in range(10):\n",
    "    output[:,:,i] = np.greater(x,r[:,:,i]).astype(int)\n",
    "\n",
    "\n",
    "\n",
    "#2. Output the shape of the spike-encoded image using numpy.shape\n",
    "np.shape(output)\n"
   ]
  },
  {
   "cell_type": "markdown",
   "metadata": {},
   "source": [
    "## 6c. \n",
    "Now, we will decode the image back from the spike-based representation. Can you think of a way to get the pixel values back? *Hint: Think aggregate measures on the spike trains for each pixel*"
   ]
  },
  {
   "cell_type": "code",
   "execution_count": 208,
   "metadata": {},
   "outputs": [
    {
     "data": {
      "text/plain": [
       "<matplotlib.image.AxesImage at 0x7fbc5070a898>"
      ]
     },
     "execution_count": 208,
     "metadata": {},
     "output_type": "execute_result"
    },
    {
     "data": {
      "image/png": "[encoded data removed]",
      "text/plain": [
       "<Figure size 432x288 with 1 Axes>"
      ]
     },
     "metadata": {
      "needs_background": "light"
     },
     "output_type": "display_data"
    }
   ],
   "source": [
    "#1. Compute some aggregate measure of spike trains for each pixel to get the image back. Numpy aggregate functions might be useful here\n",
    "output_arr = output.mean(axis=2)\n",
    "#2. visualize the reconstructed image\n",
    "plt.imshow(output_arr)"
   ]
  },
  {
   "cell_type": "markdown",
   "metadata": {},
   "source": [
    "Is it possible to get the exact image back? Why/Why not?"
   ]
  },
  {
   "cell_type": "markdown",
   "metadata": {},
   "source": [
    "## Answer 6c.\n",
    "I believe it isn’t possible to get the exact same image because we are using the random function generator to see if the pixel intensity is greater or not. The probability of generating the exact image is infinitesimal in such a case."
   ]
  },
  {
   "cell_type": "markdown",
   "metadata": {},
   "source": [
    "## 6d. \n",
    "Can you think of a way to encode the image into spikes in a way such that the decoded image looks as close as possible to the original image? *Hint: Think timesteps*"
   ]
  },
  {
   "cell_type": "code",
   "execution_count": 250,
   "metadata": {},
   "outputs": [
    {
     "data": {
      "text/plain": [
       "<matplotlib.image.AxesImage at 0x7fbc4f892630>"
      ]
     },
     "execution_count": 250,
     "metadata": {},
     "output_type": "execute_result"
    },
    {
     "data": {
      "image/png": "[encoded data removed]",
      "text/plain": [
       "<Figure size 432x288 with 1 Axes>"
      ]
     },
     "metadata": {
      "needs_background": "light"
     },
     "output_type": "display_data"
    }
   ],
   "source": [
    "#1. Create a \"better\" encoding of the image\n",
    "r = np.random.rand(28,28,200)\n",
    "output = np.zeros((28,28,200))\n",
    "            \n",
    "for i in range(200):\n",
    "    output[:,:,i] = np.greater(x,r[:,:,i]).astype(int)\n",
    "\n",
    "#2. Compute and visualize the decoded image\n",
    "output_arr = output.mean(axis=2)\n",
    "plt.imshow(output_arr)\n",
    "  \n"
   ]
  },
  {
   "cell_type": "markdown",
   "metadata": {},
   "source": [
    "If each intensity pixel is represented with a value between [0, 255], what would be a reasonable timestep to encode it accurately? What might be a disadvantage of this solution?"
   ]
  },
  {
   "cell_type": "markdown",
   "metadata": {},
   "source": [
    "## Answer 6d. \n",
    "After alot of trial and error, I found approximately 200 to be a reasonable timestep to encode the image accurately to the actual image. The disadvantage would be the time complexity of the model getting affected due to the high timestep value."
   ]
  }
 ],
 "metadata": {
  "kernelspec": {
   "display_name": "Python 3",
   "language": "python",
   "name": "python3"
  },
  "language_info": {
   "codemirror_mode": {
    "name": "ipython",
    "version": 3
   },
   "file_extension": ".py",
   "mimetype": "text/x-python",
   "name": "python",
   "nbconvert_exporter": "python",
   "pygments_lexer": "ipython3",
   "version": "3.6.9"
  }
 },
 "nbformat": 4,
 "nbformat_minor": 4
}
